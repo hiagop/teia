{
 "cells": [
  {
   "cell_type": "raw",
   "metadata": {},
   "source": [
    "<script>\n",
    "  jQuery(document).ready(function($) {  \n",
    "  \n",
    "  $(window).on('load', function(){\n",
    "    $('#preloader').fadeOut('slow',function(){$(this).remove();});\n",
    "  });\n",
    "  \n",
    "  });\n",
    "</script>\n",
    "\n",
    "<style type=\"text/css\">\n",
    "  div#preloader { position: fixed; \n",
    "      left: 0; \n",
    "      top: 0; \n",
    "      z-index: 999; \n",
    "      width: 100%; \n",
    "      height: 100%; \n",
    "      overflow: visible; \n",
    "      background: #fff url('http://preloaders.net/preloaders/720/Moving%20line.gif') no-repeat center center; \n",
    "  }\n",
    "  \n",
    "  .output_png img {\n",
    "    display: block;\n",
    "    margin-left: auto;\n",
    "    margin-right: auto;\n",
    "}\n",
    "\n",
    "</style>\n",
    "\n",
    "<div id=\"preloader\">\n",
    "\n",
    "</div>"
   ]
  },
  {
   "cell_type": "raw",
   "metadata": {},
   "source": [
    "<script>\n",
    "  function code_toggle() {\n",
    "    if (code_shown){\n",
    "      $('div.input').hide('500');\n",
    "      $('#toggleButton').val('Exibir Código')\n",
    "    } else {\n",
    "      $('div.input').show('500');\n",
    "      $('#toggleButton').val('Ocultar Código')\n",
    "    }\n",
    "    code_shown = !code_shown\n",
    "  } \n",
    "  \n",
    "  $( document ).ready(function(){\n",
    "    code_shown=false; \n",
    "    $('div.input').hide()\n",
    "  });\n",
    "</script>\n",
    "<form action=\"javascript:code_toggle()\"><input type=\"submit\" id=\"toggleButton\" value=\"Exibir Código\"></form>"
   ]
  },
  {
   "cell_type": "markdown",
   "metadata": {},
   "source": [
    "__Universidade Federal do Pará  \n",
    "  Disciplina: Tópicos Especiais em Inteligência Artificial  \n",
    "  Docente: Claudomiro Sales  \n",
    "  Discente: Hiago Cavalcante Prata  \n",
    "  Matrícula: 201406840049__"
   ]
  },
  {
   "cell_type": "markdown",
   "metadata": {},
   "source": [
    "---"
   ]
  },
  {
   "cell_type": "markdown",
   "metadata": {},
   "source": [
    "### Atividade 02: Título"
   ]
  },
  {
   "cell_type": "markdown",
   "metadata": {},
   "source": [
    "[1. Introdução](#1.-Introdução)  \n",
    "[2. Baseline](#2.-Baseline)  \n",
    "[3. Testes](#2.-Testes)  \n",
    "&nbsp;&nbsp;&nbsp;&nbsp;[3.1. Teste 1](#3.1.-Teste-1)  \n",
    "&nbsp;&nbsp;&nbsp;&nbsp;[3.2. Teste 2](#3.2.-Teste-2)    \n",
    "[4. Hipóteses](#4.-Hipóteses)  \n",
    "[5. Resultados](#5.-Resultados)  \n",
    "[6. Considerações Finais](#6.-Considerações-Finais)  "
   ]
  },
  {
   "cell_type": "markdown",
   "metadata": {},
   "source": [
    "---"
   ]
  },
  {
   "cell_type": "markdown",
   "metadata": {},
   "source": [
    "## 1. Introdução"
   ]
  },
  {
   "cell_type": "markdown",
   "metadata": {},
   "source": []
  },
  {
   "cell_type": "code",
   "execution_count": 67,
   "metadata": {},
   "outputs": [],
   "source": [
    "import random as rnd\n",
    "import numpy as np\n",
    "import matplotlib.pyplot as pl"
   ]
  },
  {
   "cell_type": "code",
   "execution_count": null,
   "metadata": {},
   "outputs": [],
   "source": [
    "#! /usr/bin/env python\n",
    "# -*- coding: utf8 -*-\n",
    "\n",
    "import numpy as np\n",
    "\n",
    "class Chromossome:\n",
    "\n",
    "    genes = []\n",
    "    fitness = 0\n",
    "\n",
    "    def __init__(self, size, alphabet):\n",
    "       self.genes = np.random.choice(alphabet, size) \n",
    "\n",
    "    def __str__(self):\n",
    "       return \"{0}\".format(self.genes)\n",
    "\n",
    "    def _fitness(self, func):\n",
    "        self.fitness = func(self.genes, target)\n",
    "\n",
    "class Population:\n",
    "    \n",
    "    alphabet = []\n",
    "    population = []\n",
    "    pop_size = 0\n",
    "    chromossome_size = 0\n",
    "\n",
    "    def __init__(self, pop_size, chromossome_size, alphabet):\n",
    "        self.alphabet = alphabet\n",
    "        self.pop_size = pop_size\n",
    "        self.chromossome_size = chromossome_size\n",
    "        self.population = self.__gen_pop(pop_size, chromossome_size, alphabet)\n",
    "    def __str__(self):\n",
    "        string = \"\"\n",
    "\n",
    "        for i in range(len(self.population) - 1):\n",
    "            string += str(self.population[i]) + \"\\n\"\n",
    "        string += str(self.population[-1])\n",
    "        return string\n",
    "\n",
    "    def sort(self):\n",
    "        self.population = sorted(self.population, key=lambda chromossome: chromossome.fitness)\n",
    "\n",
    "    def renew(self):\n",
    "        index = len(self.population)/2\n",
    "        self.population = self.__gen_pop(index, self.chromossome_size, self.alphabet) + self.population[index:]\n",
    "\n",
    "    def __gen_pop(self, pop_size, chromossome_size, alphabet):\n",
    "        pop = []\n",
    "        for _ in range(pop_size):\n",
    "            pop.append(Chromossome(chromossome_size, self.alphabet))\n",
    "        return pop\n",
    "\n",
    "class Randomwalk(Population):\n",
    "    pass"
   ]
  },
  {
   "cell_type": "code",
   "execution_count": 68,
   "metadata": {
    "collapsed": true
   },
   "outputs": [],
   "source": [
    "def create_word(word_size):\n",
    "    rnd.seed()\n",
    "    return [rnd.choice([0, 1]) for _ in range(word_size)]\n",
    "\n",
    "def init_pop(pop_size, word_size):\n",
    "    rnd.seed()\n",
    "    p = []\n",
    "    for _ in range(pop_size):\n",
    "        p.append([rnd.choice([0, 1]) for _ in range(word_size)])\n",
    "    return p\n",
    "\n",
    "def calc_fitness(pop, word):\n",
    "    f = []\n",
    "    for i in range(len(pop)):\n",
    "        f.append(cmp_words(pop[i], word))\n",
    "    return f\n",
    "\n",
    "def sort_pop(fitness, pop):\n",
    "    f, p = zip(*sorted(zip(fitness, pop), key = lambda pair: pair[0]))\n",
    "    return list(f), list(p)\n",
    "\n",
    "def renew_pop(pop, word_size):\n",
    "    idx = int(len(pop)/2)\n",
    "    return init_pop(idx, word_size) + pop[idx:]\n",
    "\n",
    "def print_pop(pop):\n",
    "    print(\"pop:\")\n",
    "    for i in range(len(pop)):\n",
    "        print(\"\\t\",pop[i])\n",
    "    print()\n",
    "\n",
    "def cmp_words(w1, w2):\n",
    "    c = 0\n",
    "    for i, j in zip(w1, w2):\n",
    "        if i == j:\n",
    "            c += 1\n",
    "    return c\n"
   ]
  },
  {
   "cell_type": "markdown",
   "metadata": {},
   "source": [
    "---"
   ]
  },
  {
   "cell_type": "markdown",
   "metadata": {},
   "source": [
    "## 2. Baseline  \n",
    "\n"
   ]
  },
  {
   "cell_type": "code",
   "execution_count": 69,
   "metadata": {},
   "outputs": [],
   "source": [
    "word_size_1 = 10\n",
    "word_size_2 = 15\n",
    "word_size_3 = 20\n",
    "\n",
    "pop_size_1  = 20\n",
    "pop_size_2  = 100\n",
    "pop_size_3  = 300\n",
    "pop_size_4  = 1000\n",
    "\n",
    "gen_count = 500"
   ]
  },
  {
   "cell_type": "markdown",
   "metadata": {},
   "source": [
    "# 1"
   ]
  },
  {
   "cell_type": "code",
   "execution_count": 70,
   "metadata": {},
   "outputs": [
    {
     "name": "stdout",
     "output_type": "stream",
     "text": [
      "target:\n",
      "\t [1, 1, 1, 1, 0, 1, 1, 1, 0, 1]\n"
     ]
    }
   ],
   "source": [
    "best_scores_1 = []\n",
    "\n",
    "w1 = create_word(word_size_1)\n",
    "\n",
    "print(\"target:\\n\\t\", w1)"
   ]
  },
  {
   "cell_type": "code",
   "execution_count": 87,
   "metadata": {},
   "outputs": [
    {
     "name": "stdout",
     "output_type": "stream",
     "text": [
      "1000\n"
     ]
    }
   ],
   "source": [
    "for _ in range(10):\n",
    "\n",
    "    best_scores = []\n",
    "    \n",
    "    p1 = init_pop(pop_size_4, word_size_1)\n",
    "    \n",
    "    for _ in range(gen_count):\n",
    "                \n",
    "        f1 = calc_fitness(p1, w1)\n",
    "        \n",
    "        f1, p1 = sort_pop(f1, p1)\n",
    "\n",
    "        p1 = renew_pop(p1, word_size_1)\n",
    "\n",
    "        f1 = calc_fitness(p1, w1)\n",
    "\n",
    "        f1, p1 = sort_pop(f1, p1)\n",
    "        \n",
    "        best_scores.append(max(f1))\n",
    "    \n",
    "    best_scores_1.append(best_scores)\n",
    "    \n",
    "print(len(p1))\n"
   ]
  },
  {
   "cell_type": "code",
   "execution_count": 86,
   "metadata": {},
   "outputs": [
    {
     "data": {
      "image/png": "[encoded data removed]",
      "text/plain": [
       "<Figure size 1080x720 with 1 Axes>"
      ]
     },
     "metadata": {},
     "output_type": "display_data"
    }
   ],
   "source": [
    "bs1 = np.array(best_scores_1)\n",
    "m1 = np.mean(bs1, axis=0) \n",
    "std1 = np.std(bs1, axis=0)\n",
    "idx = np.arange(1, gen_count, 10)\n",
    "\n",
    "\n",
    "pl.figure(figsize=(15, 10))\n",
    "pl.gca().set_ylim([round(min(m1))-1, word_size_1+max(std1)])\n",
    "pl.title('Média do Fitness')\n",
    "pl.xlabel('Gerações')\n",
    "pl.ylabel('Média')\n",
    "pl.grid(alpha=0.3)\n",
    "pl.errorbar(idx, m1[::10], std1[::10], ls=None, marker='.')\n",
    "pl.show()\n",
    "\n",
    "\n"
   ]
  },
  {
   "cell_type": "markdown",
   "metadata": {},
   "source": [
    "# 2"
   ]
  },
  {
   "cell_type": "code",
   "execution_count": 73,
   "metadata": {},
   "outputs": [
    {
     "name": "stdout",
     "output_type": "stream",
     "text": [
      "target:\n",
      "\t [1, 1, 1, 1, 0, 1, 1, 1, 0, 0, 1, 0, 0, 1, 0]\n"
     ]
    }
   ],
   "source": [
    "best_scores_2 = []\n",
    "\n",
    "w2 = create_word(word_size_2)\n",
    "\n",
    "print(\"target:\\n\\t\", w2)"
   ]
  },
  {
   "cell_type": "code",
   "execution_count": 74,
   "metadata": {},
   "outputs": [],
   "source": [
    "for _ in range(10):\n",
    "    \n",
    "    best_scores = []\n",
    "    \n",
    "    p2 = init_pop(pop_size_1, word_size_2)\n",
    "    \n",
    "    for _ in range(gen_count):\n",
    "                \n",
    "        f2 = calc_fitness(p2, w2)\n",
    "        \n",
    "        f2, p2 = sort_pop(f2, p2)\n",
    "\n",
    "        p2 = renew_pop(p2, word_size_2)\n",
    "\n",
    "        f2 = calc_fitness(p2, w2)\n",
    "\n",
    "        f2, p2 = sort_pop(f2, p2)\n",
    "        \n",
    "        best_scores.append(max(f2))\n",
    "    \n",
    "    best_scores_2.append(best_scores)\n"
   ]
  },
  {
   "cell_type": "code",
   "execution_count": 75,
   "metadata": {
    "scrolled": false
   },
   "outputs": [
    {
     "data": {
      "image/png": "[encoded data removed]",
      "text/plain": [
       "<Figure size 1080x720 with 1 Axes>"
      ]
     },
     "metadata": {},
     "output_type": "display_data"
    }
   ],
   "source": [
    "bs2 = np.array(best_scores_2)\n",
    "m2 = np.mean(bs2, axis=0) \n",
    "std2 = np.std(bs2, axis=0)\n",
    "idx = np.arange(1, gen_count, 10)\n",
    "\n",
    "\n",
    "pl.figure(figsize=(15, 10))\n",
    "pl.gca().set_ylim([round(min(m2))-1, word_size_2+max(std2)])\n",
    "pl.title('Média do Fitness')\n",
    "pl.xlabel('Gerações')\n",
    "pl.ylabel('Média')\n",
    "pl.grid(alpha=0.3)\n",
    "pl.errorbar(idx, m2[::10], std2[::10], ls=None, marker='.')\n",
    "pl.show()\n",
    "\n",
    "\n"
   ]
  },
  {
   "cell_type": "markdown",
   "metadata": {},
   "source": [
    "# 3"
   ]
  },
  {
   "cell_type": "code",
   "execution_count": 76,
   "metadata": {},
   "outputs": [
    {
     "name": "stdout",
     "output_type": "stream",
     "text": [
      "target:\n",
      "\t [0, 0, 1, 1, 0, 1, 0, 1, 0, 0, 0, 1, 1, 0, 0, 1, 1, 0, 0, 0]\n"
     ]
    }
   ],
   "source": [
    "best_scores_3 = []\n",
    "\n",
    "w3 = create_word(word_size_3)\n",
    "\n",
    "print(\"target:\\n\\t\", w3)"
   ]
  },
  {
   "cell_type": "code",
   "execution_count": 77,
   "metadata": {},
   "outputs": [],
   "source": [
    "for _ in range(10):\n",
    "    \n",
    "    best_scores = []\n",
    "    \n",
    "    p3 = init_pop(pop_size_1, word_size_3)\n",
    "    \n",
    "    for _ in range(gen_count):\n",
    "                \n",
    "        f3 = calc_fitness(p3, w3)\n",
    "        \n",
    "        f3, p3 = sort_pop(f3, p3)\n",
    "\n",
    "        p3 = renew_pop(p3, word_size_3)\n",
    "\n",
    "        f3 = calc_fitness(p3, w3)\n",
    "\n",
    "        f3, p3 = sort_pop(f3, p3)\n",
    "        \n",
    "        best_scores.append(max(f3))\n",
    "    \n",
    "    best_scores_3.append(best_scores)\n"
   ]
  },
  {
   "cell_type": "code",
   "execution_count": 78,
   "metadata": {},
   "outputs": [
    {
     "data": {
      "image/png": "[encoded data removed]",
      "text/plain": [
       "<Figure size 1080x720 with 1 Axes>"
      ]
     },
     "metadata": {},
     "output_type": "display_data"
    }
   ],
   "source": [
    "bs3 = np.array(best_scores_3)\n",
    "m3 = np.mean(bs3, axis=0) \n",
    "std3 = np.std(bs3, axis=0)\n",
    "idx = np.arange(1, gen_count, 10)\n",
    "\n",
    "\n",
    "pl.figure(figsize=(15, 10))\n",
    "pl.gca().set_ylim([round(min(m3))-1, word_size_3+max(std3)])\n",
    "pl.title('Média do Fitness')\n",
    "pl.xlabel('Gerações')\n",
    "pl.ylabel('Média')\n",
    "pl.grid(alpha=0.3)\n",
    "pl.errorbar(idx, m3[::10], std2[::10], ls=None, marker='.')\n",
    "pl.show()\n",
    "\n",
    "\n"
   ]
  },
  {
   "cell_type": "markdown",
   "metadata": {},
   "source": [
    "---"
   ]
  },
  {
   "cell_type": "markdown",
   "metadata": {},
   "source": [
    "## 3. Testes  \n",
    "\n"
   ]
  },
  {
   "cell_type": "markdown",
   "metadata": {},
   "source": []
  },
  {
   "cell_type": "markdown",
   "metadata": {},
   "source": [
    "### 3.1. Teste 1\n"
   ]
  },
  {
   "cell_type": "markdown",
   "metadata": {},
   "source": []
  },
  {
   "cell_type": "markdown",
   "metadata": {},
   "source": [
    "---"
   ]
  },
  {
   "cell_type": "markdown",
   "metadata": {},
   "source": [
    "### 3.2. Teste 2"
   ]
  },
  {
   "cell_type": "markdown",
   "metadata": {},
   "source": []
  },
  {
   "cell_type": "markdown",
   "metadata": {},
   "source": [
    "---"
   ]
  },
  {
   "cell_type": "markdown",
   "metadata": {},
   "source": [
    "## 4. Hipóteses  \n"
   ]
  },
  {
   "cell_type": "markdown",
   "metadata": {},
   "source": []
  },
  {
   "cell_type": "markdown",
   "metadata": {},
   "source": [
    "---"
   ]
  },
  {
   "cell_type": "markdown",
   "metadata": {},
   "source": [
    "## 5. Resultados  \n"
   ]
  },
  {
   "cell_type": "markdown",
   "metadata": {},
   "source": []
  },
  {
   "cell_type": "markdown",
   "metadata": {},
   "source": [
    "---"
   ]
  },
  {
   "cell_type": "markdown",
   "metadata": {},
   "source": [
    "## 6. Considerações Finais\n",
    "\n"
   ]
  },
  {
   "cell_type": "markdown",
   "metadata": {},
   "source": []
  }
 ],
 "metadata": {
  "kernelspec": {
   "display_name": "python3",
   "language": "python",
   "name": "python3"
  },
  "language_info": {
   "codemirror_mode": {
    "name": "ipython",
    "version": 2
   },
   "file_extension": ".py",
   "mimetype": "text/x-python",
   "name": "python",
   "nbconvert_exporter": "python",
   "pygments_lexer": "ipython2",
   "version": "2.7.13"
  }
 },
 "nbformat": 4,
 "nbformat_minor": 2
}
