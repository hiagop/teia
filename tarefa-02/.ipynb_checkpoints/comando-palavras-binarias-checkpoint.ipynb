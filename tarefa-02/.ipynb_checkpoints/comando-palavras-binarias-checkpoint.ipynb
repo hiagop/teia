{
 "cells": [
  {
   "cell_type": "markdown",
   "metadata": {},
   "source": [
    "# Itens para o relatório"
   ]
  },
  {
   "cell_type": "markdown",
   "metadata": {},
   "source": [
    "## Título e seções usando #, ## e ###"
   ]
  },
  {
   "cell_type": "markdown",
   "metadata": {},
   "source": [
    "## Índice com os links para as seções do trabalho"
   ]
  },
  {
   "cell_type": "markdown",
   "metadata": {},
   "source": [
    "## Um breve contexto"
   ]
  },
  {
   "cell_type": "markdown",
   "metadata": {},
   "source": [
    "## Definição das hipóteses"
   ]
  },
  {
   "cell_type": "markdown",
   "metadata": {},
   "source": [
    "## Descrição dos experimentos para testar as hipóteses"
   ]
  },
  {
   "cell_type": "markdown",
   "metadata": {},
   "source": [
    "## Gerar gráficos que comprovem as hipóteses formuladas"
   ]
  },
  {
   "cell_type": "markdown",
   "metadata": {},
   "source": [
    "## Análise dos resultados"
   ]
  },
  {
   "cell_type": "markdown",
   "metadata": {},
   "source": [
    "## Considerações finais"
   ]
  },
  {
   "cell_type": "markdown",
   "metadata": {},
   "source": [
    "# Comando"
   ]
  },
  {
   "cell_type": "markdown",
   "metadata": {},
   "source": [
    "Avaliar para diferentes tamanhos de populações o comportamento de um algoritmo aleatório para encontrar palavras binárias.\n",
    "\n",
    "O tamanho da população minimo é 20 e deve-se avaliar pelo menos 4 diferentes tamanhos de população.\n",
    "\n",
    "A população deve ser avaliada em relação a palavra alvo. Para cada palavra da população é dada uma nota baseada em quanto ela é semelhante a palavra alvo.\n",
    "\n",
    "A população então é ordenada e as 50% palavras piores são descartadas, sendo substituídas por outras palavas aleatórias. O processo continua até que palavra alvo seja encontrada ou que seja alcançado um número máximo de gerações sem que o algoritmo evolua.\n",
    "\n",
    "Para cada cenário avaliado, o algoritmo deve ser executado pelo menos 5 vezes. Sempre fazer as análises em função de médias e variâncias.\n",
    "\n",
    "Avaliar o comportamento do algoritmo com o aumento da complexidade e também o tamanho da população.\n",
    "\n"
   ]
  },
  {
   "cell_type": "markdown",
   "metadata": {},
   "source": [
    "# Palavras alvo"
   ]
  },
  {
   "cell_type": "code",
   "execution_count": 3,
   "metadata": {
    "collapsed": true
   },
   "outputs": [],
   "source": [
    "Palavra_A = 0b1110010001000110 #15 genes\n",
    "\n",
    "Palavra_B = 0b10110110011010000000011111 #25 genes\n",
    "\n",
    "Palavra_C = 0b11110001010100000110100111000100011000110 #40 genes\n"
   ]
  },
  {
   "cell_type": "markdown",
   "metadata": {},
   "source": [
    "# Funções que podem ajuda"
   ]
  },
  {
   "cell_type": "code",
   "execution_count": 4,
   "metadata": {
    "collapsed": true
   },
   "outputs": [],
   "source": [
    "pathFileImages = 'C:/Users/claud/Dropbox/RepoGit/Disciplina/Computação Evolucionária/Jupyter/'\n",
    "\n",
    "\n",
    "from IPython.display import Image\n",
    "import matplotlib.pyplot as plt\n",
    "import numpy as np\n",
    "import numpy.random as npr"
   ]
  },
  {
   "cell_type": "code",
   "execution_count": 5,
   "metadata": {
    "collapsed": true
   },
   "outputs": [],
   "source": [
    "def invertBit( palavra, posBit ):\n",
    "    \n",
    "    if posBit > palavra.bit_length():\n",
    "        return -1\n",
    "    elif posBit == 0:\n",
    "        return -2\n",
    "    \n",
    "    mask =  1 << posBit - 1\n",
    "    return palavra ^ mask\n",
    "\n",
    "\n",
    "def criarPalavra( nBits ):\n",
    "    \n",
    "    palavra = 1 << nBits\n",
    "    \n",
    "    for i in range(1,nBits + 1):\n",
    "        if npr.rand( ) > 0.5:            \n",
    "            palavra = invertBit( palavra, i )\n",
    "            #print( 'Criando palavras aleatórias/criandoPalavras/AlterarBit', i, ' = ', bin(palavra) )\n",
    "            \n",
    "            \n",
    "    return palavra\n",
    "\n",
    "\n",
    "def compararPalavras( palavra1, palavra2 ):\n",
    "    \n",
    "    return bin( palavra1 ^ palavra2 ).count(\"1\")\n",
    "\n",
    "\n",
    "def printPop( pop ):\n",
    "    \n",
    "    for i in range(len(pop)): \n",
    "        print( bin( pop[ i ] ) )\n",
    "        \n",
    "def calcFitnessPalavraBin( pop, palavraAlvo, nPrimeiras = -1 ):\n",
    "    fitness = [ ]\n",
    "    if nPrimeiras == -1:\n",
    "        for i in range(len(pop)):\n",
    "            fitness.append( sizeBin - compararPalavras( palavraAlvo, pop[ i ] ) )\n",
    "    else:\n",
    "        for i in range(nPrimeiras):\n",
    "            fitness.append( sizeBin - compararPalavras( palavraAlvo, pop[ i ] ) )\n",
    "            \n",
    "    return fitness\n",
    "\n",
    "def criarPop( sizePop, sizeBin ):\n",
    "    pop = [ ]\n",
    "    for i in range(sizePop):\n",
    "        pop.append( criarPalavra( sizeBin ) )\n",
    "    \n",
    "    return pop\n",
    "\n",
    "def trocarPalavras( pop, fitness, sizePopToChange, sizeBin ):\n",
    "    popTemp = criarPop( sizePopToChange, sizeBin ) \n",
    "    pop[0:sizePopToChange] = popTemp[0:sizePopToChange]\n",
    "    fitness[0:sizePopToChange] =  -1*np.ones(sizePopToChange, int) "
   ]
  },
  {
   "cell_type": "markdown",
   "metadata": {},
   "source": [
    "# Exemplo de uso"
   ]
  },
  {
   "cell_type": "code",
   "execution_count": 7,
   "metadata": {},
   "outputs": [
    {
     "name": "stdout",
     "output_type": "stream",
     "text": [
      "A palavra alvo é  0b10110\n"
     ]
    }
   ],
   "source": [
    "sizeBin = 4\n",
    "\n",
    "palavraAlvo = criarPalavra( sizeBin )\n",
    "print('A palavra alvo é ', bin( palavraAlvo ) )"
   ]
  },
  {
   "cell_type": "code",
   "execution_count": 9,
   "metadata": {},
   "outputs": [
    {
     "name": "stdout",
     "output_type": "stream",
     "text": [
      "0b10001\n",
      "0b11010\n",
      "0b11010\n",
      "0b10010\n",
      "0b10111\n",
      "0b10010\n",
      "[1, 2, 2, 3, 3, 3]\n",
      "0b10111\n",
      "0b10110\n",
      "0b11010\n",
      "0b10010\n",
      "0b10111\n",
      "0b10010\n",
      "[-1, -1, -1, 3, 3, 3]\n",
      "0b10111\n",
      "0b10110\n",
      "0b11010\n",
      "0b10010\n",
      "0b10111\n",
      "0b10010\n",
      "[3, 4, 2, 3, 3, 3]\n",
      "0b11010\n",
      "0b10111\n",
      "0b10010\n",
      "0b10111\n",
      "0b10010\n",
      "0b10110\n",
      "[2, 3, 3, 3, 3, 4]\n"
     ]
    }
   ],
   "source": [
    "pop_ =  []\n",
    "fitness = []\n",
    "sizePop = 6\n",
    "\n",
    "pop_ = criarPop( sizePop, sizeBin )        \n",
    "#printPop( pop_ )\n",
    "#print('\\n')\n",
    "      \n",
    "fitness = calcFitnessPalavraBin( pop_, palavraAlvo )\n",
    "\n",
    "#print(  fitness, pop_  )\n",
    "\n",
    "def ordenarPopbyFitness(fitness, pop):\n",
    "    return list( zip(*sorted(zip(fitness, pop_), key = lambda pair: pair[0])) )\n",
    "\n",
    "fitPop = ordenarPopbyFitness(fitness, pop_)\n",
    "pop_ = list( fitPop[ 1 ] )\n",
    "fitness = list( fitPop[ 0 ] )\n",
    "\n",
    "printPop( pop_ )\n",
    "print(  fitness )\n",
    "\n",
    "\n",
    "sizePopToChange = 3\n",
    "trocarPalavras( pop_, fitness, sizePopToChange,  sizeBin )\n",
    "    \n",
    "printPop( pop_ )\n",
    "print(  fitness )\n",
    "\n",
    "fitness[0:sizePopToChange] = calcFitnessPalavraBin( pop_, palavraAlvo, nPrimeiras = sizePopToChange )\n",
    "\n",
    "printPop( pop_ )\n",
    "print(  fitness )\n",
    "\n",
    "fitPop = ordenarPopbyFitness(fitness, pop_)\n",
    "pop_ = list( fitPop[ 1 ] )\n",
    "fitness = list( fitPop[ 0 ] )\n",
    "\n",
    "printPop( pop_ )\n",
    "print(  fitness )"
   ]
  },
  {
   "cell_type": "code",
   "execution_count": 53,
   "metadata": {},
   "outputs": [
    {
     "data": {
      "image/png": "[encoded data removed]",
      "text/plain": [
       "<matplotlib.figure.Figure at 0x21a942de748>"
      ]
     },
     "metadata": {},
     "output_type": "display_data"
    }
   ],
   "source": [
    "N = 5\n",
    "menMeans = (20, 35, 30, 35, 27)\n",
    "womenMeans = (25, 32, 34, 20, 25)\n",
    "menStd = (2, 3, 4, 1, 2)\n",
    "womenStd = (3, 5, 2, 3, 3)\n",
    "ind = np.arange(N)    # the x locations for the groups\n",
    "width = 0.35       # the width of the bars: can also be len(x) sequence\n",
    "\n",
    "p1 = plt.bar(ind, menMeans, width, yerr=menStd)\n",
    "p2 = plt.bar(ind, womenMeans, width,\n",
    "             bottom=menMeans, yerr=womenStd)\n",
    "\n",
    "plt.ylabel('Scores')\n",
    "plt.title('Scores by group and gender')\n",
    "plt.xticks(ind, ('G1', 'G2', 'G3', 'G4', 'G5'))\n",
    "plt.yticks(np.arange(0, 81, 10))\n",
    "plt.legend((p1[0], p2[0]), ('Men', 'Women'))\n",
    "\n",
    "plt.show()"
   ]
  },
  {
   "cell_type": "code",
   "execution_count": 55,
   "metadata": {},
   "outputs": [
    {
     "data": {
      "image/png": "[encoded data removed]",
      "text/plain": [
       "<matplotlib.figure.Figure at 0x21a92959ac8>"
      ]
     },
     "metadata": {},
     "output_type": "display_data"
    }
   ],
   "source": [
    "# example data\n",
    "x = np.arange(0.1, 4, 0.5)\n",
    "y = np.exp(-x)\n",
    "\n",
    "# example error bar values that vary with x-position\n",
    "error = 0.1 + 0.2 * x\n",
    "\n",
    "fig, (ax0, ax1) = plt.subplots(nrows=2, sharex=True)\n",
    "ax0.errorbar(x, y, yerr=error, fmt='-o')\n",
    "ax0.set_title('variable, symmetric error')\n",
    "\n",
    "# error bar values w/ different -/+ errors that\n",
    "# also vary with the x-position\n",
    "lower_error = 0.4 * error\n",
    "upper_error = error\n",
    "asymmetric_error = [lower_error, upper_error]\n",
    "\n",
    "ax1.errorbar(x, y, xerr=asymmetric_error, fmt='o')\n",
    "ax1.set_title('variable, asymmetric error')\n",
    "ax1.set_yscale('log')\n",
    "plt.show()"
   ]
  },
  {
   "cell_type": "code",
   "execution_count": 52,
   "metadata": {},
   "outputs": [
    {
     "data": {
      "image/png": "[encoded data removed]",
      "text/plain": [
       "<matplotlib.figure.Figure at 0x21a943e5a90>"
      ]
     },
     "metadata": {},
     "output_type": "display_data"
    },
    {
     "name": "stdout",
     "output_type": "stream",
     "text": [
      "[ 0.          0.47942554  0.84147098  0.99749499  0.90929743  0.59847214\n",
      "  0.14112001 -0.35078323 -0.7568025  -0.97753012 -0.95892427 -0.70554033\n",
      " -0.2794155   0.21511999  0.6569866   0.93799998  0.98935825  0.79848711\n",
      "  0.41211849 -0.07515112 -0.54402111 -0.87969576 -0.99999021 -0.87545217\n",
      " -0.53657292 -0.0663219   0.42016704  0.80378443  0.99060736  0.93489506\n",
      "  0.65028784]\n",
      "[[-0.09194992]\n",
      " [-1.46335065]\n",
      " [ 1.08179168]\n",
      " [-0.23932517]\n",
      " [-0.49112914]\n",
      " [-1.00227201]\n",
      " [ 0.9188215 ]\n",
      " [-1.1036321 ]\n",
      " [ 0.62649346]\n",
      " [-0.56151378]]\n",
      "[[-0.09194992  0.38747562  0.74952106  0.90554507  0.81734751  0.50652222\n",
      "   0.04917009 -0.44273315 -0.84875242 -1.06948004 -1.05087419 -0.79749025\n",
      "  -0.37136542  0.12317007  0.56503668  0.84605006  0.89740833  0.70653719\n",
      "   0.32016857 -0.16710104 -0.63597103 -0.97164568 -1.09194013 -0.96740209\n",
      "  -0.62852284 -0.15827182  0.32821712  0.71183451  0.89865744  0.84294514\n",
      "   0.55833792]\n",
      " [-1.46335065 -0.98392511 -0.62187967 -0.46585567 -0.55405323 -0.86487851\n",
      "  -1.32223064 -1.81413388 -2.22015315 -2.44088077 -2.42227493 -2.16889098\n",
      "  -1.74276615 -1.24823066 -0.80636405 -0.52535068 -0.47399241 -0.66486354\n",
      "  -1.05123217 -1.53850177 -2.00737176 -2.34304641 -2.46334086 -2.33880283\n",
      "  -1.99992357 -1.52967255 -1.04318362 -0.65956623 -0.4727433  -0.5284556\n",
      "  -0.81306281]\n",
      " [ 1.08179168  1.56121722  1.92326266  2.07928667  1.99108911  1.68026382\n",
      "   1.22291169  0.73100845  0.32498918  0.10426156  0.1228674   0.37625135\n",
      "   0.80237618  1.29691167  1.73877828  2.01979166  2.07114993  1.88027879\n",
      "   1.49391016  1.00664056  0.53777057  0.20209592  0.08180147  0.2063395\n",
      "   0.54521876  1.01546978  1.50195872  1.88557611  2.07239903  2.01668673\n",
      "   1.73207952]\n",
      " [-0.23932517  0.24010037  0.60214582  0.75816982  0.66997226  0.35914698\n",
      "  -0.09820516 -0.5901084  -0.99612766 -1.21685529 -1.19824944 -0.94486549\n",
      "  -0.51874067 -0.02420518  0.41766143  0.69867481  0.75003308  0.55916194\n",
      "   0.17279332 -0.31447629 -0.78334628 -1.11902093 -1.23931537 -1.11477734\n",
      "  -0.77589809 -0.30564707  0.18084187  0.56445926  0.75128219  0.69556989\n",
      "   0.41096267]\n",
      " [-0.49112914 -0.0117036   0.35034185  0.50636585  0.41816829  0.10734301\n",
      "  -0.35000913 -0.84191236 -1.24793163 -1.46865925 -1.45005341 -1.19666946\n",
      "  -0.77054463 -0.27600915  0.16585746  0.44687084  0.49822911  0.30735798\n",
      "  -0.07901065 -0.56628026 -1.03515025 -1.3708249  -1.49111934 -1.36658131\n",
      "  -1.02770205 -0.55745103 -0.0709621   0.31265529  0.49947822  0.44376592\n",
      "   0.1591587 ]\n",
      " [-1.00227201 -0.52284647 -0.16080103 -0.00477702 -0.09297458 -0.40379987\n",
      "  -0.861152   -1.35305524 -1.75907451 -1.97980213 -1.96119628 -1.70781234\n",
      "  -1.28168751 -0.78715202 -0.34528541 -0.06427203 -0.01291376 -0.2037849\n",
      "  -0.59015353 -1.07742313 -1.54629312 -1.88196777 -2.00226222 -1.87772418\n",
      "  -1.53884493 -1.06859391 -0.58210497 -0.19848758 -0.01166465 -0.06737695\n",
      "  -0.35198417]\n",
      " [ 0.9188215   1.39824704  1.76029249  1.91631649  1.82811893  1.51729365\n",
      "   1.05994151  0.56803828  0.16201901 -0.05870861 -0.04010277  0.21328118\n",
      "   0.639406    1.13394149  1.5758081   1.85682148  1.90817975  1.71730862\n",
      "   1.33093999  0.84367038  0.37480039  0.03912574 -0.0811687   0.04336933\n",
      "   0.38224858  0.85249961  1.33898854  1.72260593  1.90942886  1.85371656\n",
      "   1.56910934]\n",
      " [-1.1036321  -0.62420656 -0.26216112 -0.10613711 -0.19433467 -0.50515996\n",
      "  -0.96251209 -1.45441533 -1.8604346  -2.08116222 -2.06255638 -1.80917243\n",
      "  -1.3830476  -0.88851211 -0.4466455  -0.16563212 -0.11427385 -0.30514499\n",
      "  -0.69151362 -1.17878322 -1.64765321 -1.98332786 -2.10362231 -1.97908428\n",
      "  -1.64020502 -1.169954   -0.68346506 -0.29984767 -0.11302475 -0.16873705\n",
      "  -0.45334426]\n",
      " [ 0.62649346  1.10591899  1.46796444  1.62398844  1.53579088  1.2249656\n",
      "   0.76761346  0.27571023 -0.13030904 -0.35103666 -0.33243082 -0.07904687\n",
      "   0.34707796  0.84161344  1.28348006  1.56449343  1.6158517   1.42498057\n",
      "   1.03861194  0.55134234  0.08247235 -0.2532023  -0.37349675 -0.24895872\n",
      "   0.08992054  0.56017156  1.04666049  1.43027788  1.61710081  1.56138851\n",
      "   1.2767813 ]\n",
      " [-0.56151378 -0.08208824  0.2799572   0.43598121  0.34778365  0.03695836\n",
      "  -0.42039377 -0.91229701 -1.31831628 -1.5390439  -1.52043806 -1.26705411\n",
      "  -0.84092928 -0.34639379  0.09547282  0.3764862   0.42784447  0.23697333\n",
      "  -0.1493953  -0.6366649  -1.10553489 -1.44120954 -1.56150399 -1.43696596\n",
      "  -1.0980867  -0.62783568 -0.14134674  0.24227065  0.42909358  0.37338127\n",
      "   0.08877406]]\n"
     ]
    }
   ],
   "source": [
    "import numpy as np; np.random.seed(22)\n",
    "import seaborn as sns; sns.set(color_codes=True)\n",
    "x = np.linspace(0, 15, 31)\n",
    "\n",
    "a = np.random.randn(10, 1)\n",
    "\n",
    "data = np.sin(x) + a #+ np.random.rand(10, 31)\n",
    "ax = sns.tsplot(data=data)\n",
    "\n",
    "plt.show( )\n",
    "\n",
    "print(  np.sin(x)  )\n",
    "print( a )\n",
    "print( data )\n",
    "#print( len( np.random.rand(10, 31) ) )\n",
    "\n",
    "#"
   ]
  },
  {
   "cell_type": "code",
   "execution_count": 27,
   "metadata": {},
   "outputs": [
    {
     "data": {
      "image/png": "[encoded data removed]",
      "text/plain": [
       "<matplotlib.figure.Figure at 0x21a8ffb17f0>"
      ]
     },
     "metadata": {},
     "output_type": "display_data"
    }
   ],
   "source": [
    "\n"
   ]
  }
 ],
 "metadata": {
  "kernelspec": {
   "display_name": "Python 3",
   "language": "python",
   "name": "python3"
  },
  "language_info": {
   "codemirror_mode": {
    "name": "ipython",
    "version": 3
   },
   "file_extension": ".py",
   "mimetype": "text/x-python",
   "name": "python",
   "nbconvert_exporter": "python",
   "pygments_lexer": "ipython3",
   "version": "3.6.4"
  }
 },
 "nbformat": 4,
 "nbformat_minor": 2
}
