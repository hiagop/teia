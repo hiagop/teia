{
 "cells": [
  {
   "cell_type": "markdown",
   "metadata": {},
   "source": [
    "# Operadores do AG"
   ]
  },
  {
   "cell_type": "markdown",
   "metadata": {},
   "source": [
    "# Mutation"
   ]
  },
  {
   "cell_type": "markdown",
   "metadata": {},
   "source": [
    "Texto explicando o método"
   ]
  },
  {
   "cell_type": "code",
   "execution_count": null,
   "metadata": {
    "collapsed": true
   },
   "outputs": [],
   "source": []
  },
  {
   "cell_type": "code",
   "execution_count": 13,
   "metadata": {},
   "outputs": [
    {
     "name": "stdout",
     "output_type": "stream",
     "text": [
      "Bitflip no gene\n",
      "Bitflip no gene\n",
      "Bitflip no gene\n",
      "Bitflip no gene\n",
      "Trocar bits a direita e a esquerda de gene\n",
      "Bitflip no gene\n",
      "Bitflip no gene\n",
      "Bitflip no gene\n",
      "Bitflip no gene\n",
      "Bitflip no gene\n",
      "Bitflip no gene\n",
      "Bitflip no gene\n",
      "Bitflip no gene\n",
      "Trocar bits a direita e a esquerda de gene\n",
      "Bitflip no gene\n",
      "Bitflip no gene\n",
      "Bitflip no gene\n",
      "Bitflip no gene\n",
      "Bitflip no gene\n",
      "Bitflip no gene\n",
      "Bitflip no gene\n",
      "Trocar bits a direita e a esquerda de gene\n",
      "Bitflip no gene\n",
      "Bitflip no gene\n",
      "Bitflip no gene\n",
      "Trocar bits a direita e a esquerda de gene\n",
      "Bitflip no gene\n",
      "Bitflip no gene\n",
      "Trocar bits a direita e a esquerda de gene\n",
      "Bitflip no gene\n",
      "Bitflip no gene\n",
      "Bitflip no gene\n",
      "Bitflip no gene\n",
      "Bitflip no gene\n",
      "Bitflip no gene\n",
      "Bitflip no gene\n",
      "Bitflip no gene\n",
      "Bitflip no gene\n",
      "Bitflip no gene\n",
      "Bitflip no gene\n",
      "Bitflip no gene\n",
      "Bitflip no gene\n",
      "Bitflip no gene\n",
      "Bitflip no gene\n",
      "Bitflip no gene\n",
      "40\n",
      "5\n",
      "12.5\n"
     ]
    }
   ],
   "source": [
    "import numpy.random as npr\n",
    "\n",
    "mu = 0\n",
    "sigma = 0.5\n",
    "pm = 1 #Apenas para testar. Valores típicos de 0.01 a 0.3\n",
    "\n",
    "count = 0\n",
    "N = 40\n",
    "for n in range(0,N):\n",
    "    if npr.uniform( ) < pm:\n",
    "        \n",
    "        #Inverter gene\n",
    "        print('Bitflip no gene')\n",
    "        \n",
    "        #Verificar vizinhos\n",
    "        s = npr.normal(mu, sigma, 1)\n",
    "        if not ( s > -1.5 * sigma and s < 1.5 * sigma ):\n",
    "            count += 1\n",
    "            print('Trocar bits a direita e a esquerda de gene')\n",
    "\n",
    "print( N )\n",
    "print( count )\n",
    "print( 100 * count / N )"
   ]
  },
  {
   "cell_type": "markdown",
   "metadata": {
    "collapsed": true
   },
   "source": [
    "# Seleção por torneio modificado"
   ]
  },
  {
   "cell_type": "markdown",
   "metadata": {
    "collapsed": true
   },
   "source": [
    "Texto explicando o método"
   ]
  },
  {
   "cell_type": "code",
   "execution_count": 232,
   "metadata": {},
   "outputs": [
    {
     "name": "stdout",
     "output_type": "stream",
     "text": [
      "0.875\n",
      "[ 0.  0.  0.  0.  0.  0.  0.  0.  0.  0.  0.  0.  0.  0.  0.  0.  0.  0.\n",
      "  0.  0.  0.  0.  0.  0.  0.  0.  0.  0.  0.  0.  0.  0.  0.  0.  0.  0.\n",
      "  0.  0.  0.  0.]\n",
      "[ 38.  30.  37.  35.  29.   9.  31.  38.  30.  30.  38.   7.   3.  37.  39.\n",
      "  26.  35.  27.  31.  32.  27.  36.  37.   8.   0.  29.   2.  39.  26.   5.\n",
      "  31.  29.  38.  32.  36.  27.  29.   1.  30.  16.]\n",
      "26.5\n"
     ]
    }
   ],
   "source": [
    "ring = 5\n",
    "Npop = 40 #cromossomos\n",
    "\n",
    "print( 1 - ring / Npop )\n",
    "selecionados = [ ]\n",
    "selecionados = np.zeros( Npop )\n",
    "print( selecionados )\n",
    "\n",
    "\n",
    "for i in range( 0, Npop ):\n",
    "    competidores = np.random.randint(Npop, size=ring)\n",
    "    #print( competidores )\n",
    "    if npr.uniform( ) < 1 - ring / Npop:\n",
    "        selecionados[ i ] = competidores.max( )\n",
    "        #print( 'Ganhador max: ', selecionados[ i ] )\n",
    "    else:\n",
    "        selecionados[ i ] = competidores.min( )\n",
    "        #print( 'Ganhador min: ', selecionados[ i ] )\n",
    "\n",
    "\n",
    "\n",
    "print( selecionados )\n",
    "\n",
    "print( selecionados.mean( ) )\n",
    "\n"
   ]
  },
  {
   "cell_type": "code",
   "execution_count": null,
   "metadata": {
    "collapsed": true
   },
   "outputs": [],
   "source": []
  }
 ],
 "metadata": {
  "kernelspec": {
   "display_name": "Python 3",
   "language": "python",
   "name": "python3"
  },
  "language_info": {
   "codemirror_mode": {
    "name": "ipython",
    "version": 3
   },
   "file_extension": ".py",
   "mimetype": "text/x-python",
   "name": "python",
   "nbconvert_exporter": "python",
   "pygments_lexer": "ipython3",
   "version": "3.6.3"
  }
 },
 "nbformat": 4,
 "nbformat_minor": 2
}
